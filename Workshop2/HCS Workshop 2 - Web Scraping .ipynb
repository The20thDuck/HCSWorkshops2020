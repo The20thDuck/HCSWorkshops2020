{
 "cells": [
  {
   "cell_type": "code",
   "execution_count": 1,
   "metadata": {},
   "outputs": [],
   "source": [
    "# HCS Workshop 2, Web Scraping"
   ]
  },
  {
   "cell_type": "code",
   "execution_count": 2,
   "metadata": {},
   "outputs": [],
   "source": [
    "# Author: Warren Sunada-Wong"
   ]
  },
  {
   "cell_type": "code",
   "execution_count": 7,
   "metadata": {},
   "outputs": [
    {
     "name": "stdout",
     "output_type": "stream",
     "text": [
      "200\n"
     ]
    }
   ],
   "source": [
    "# import requests package and set up page\n",
    "\n",
    "import requests\n",
    "page = requests.get(\"https://2700chess.com\")\n",
    "print(page.status_code)"
   ]
  },
  {
   "cell_type": "code",
   "execution_count": 43,
   "metadata": {
    "scrolled": true
   },
   "outputs": [
    {
     "name": "stdout",
     "output_type": "stream",
     "text": [
      "Top Chess Players by Rating\n",
      "                    Name                 Classic                   Rapid                   Blitz\n",
      "                 Carlsen                 2862.0                  2881.0                  2886.0 \n",
      "                 Caruana                 2823.0                  2773.0                  2711.0 \n",
      "              Ding Liren                 2791.0                  2836.0                  2788.0 \n",
      "          Nepomniachtchi                 2784.0                  2778.0                  2785.0 \n",
      "         Vachier-Lagrave                 2784.0                  2860.0                  2822.0 \n",
      "                 Aronian                 2781.0                  2778.0                  2739.0 \n",
      "                Grischuk                 2777.0                  2784.0                  2765.0 \n",
      "              Mamedyarov                 2770.0                  2761.0                  2716.0 \n",
      "                      So                 2770.0                  2741.0                  2816.0 \n",
      "                Radjabov                 2765.0                  2758.0                  2757.0 \n",
      "                    Giri                 2764.0                  2731.0                  2752.0 \n",
      "                Wang Hao                 2763.0                  2750.0                  2712.0 \n",
      "                 Rapport                 2759.0                  2727.0                  2759.0 \n",
      "         Dominguez Perez                 2758.0                  2786.0                  2654.0 \n",
      "                   Anand                 2753.0                  2751.0                  2785.0 \n",
      "                 Kramnik                 2753.0                  2756 i                  2797.0 \n",
      "                Karjakin                 2752.0                  2709.0                  2765.0 \n",
      "                Firouzja                 2749.0                  2703.0                  2770.0 \n",
      "                    Duda                 2743.0                  2774.0                  2799.0 \n",
      "                Nakamura                 2736.0                  2829.0                  2900.0 \n",
      "                 Topalov                 2735.0                  2707.0                  2667.0 \n",
      "             Harikrishna                 2732.0                  2705.0                  2614.0 \n",
      "                  Wei Yi                 2732.0                  2752.0                  2686.0 \n",
      "                   Vidit                 2726.0                  2636.0                  2735.0 \n",
      "               Andreikin                 2725.0                  2740.0                  2782.0 \n",
      "                 Svidler                 2723.0                  2742.0                  2754.0 \n",
      "                Vitiugov                 2720.0                  2628.0                  2673.0 \n",
      "                   Adams                 2716.0                  2684.0                  2742.0 \n",
      "                Artemiev                 2711.0                  2757.0                  2783.0 \n",
      "            Vallejo Pons                 2710.0                  2656.0                  2643.0 \n",
      "           Le Quang Liem                 2709.0                  2744.0                  2690.0 \n",
      "                   Xiong                 2709.0                  2730.0                  2724.0 \n",
      "               Yu Yangyi                 2709.0                  2738.0                  2808.0 \n",
      "             Tomashevsky                 2706.0                  2681.0                  2695.0 \n",
      "             Bu Xiangzhi                 2705.0                  2642.0                  2760.0 \n",
      "               Wojtaszek                 2705.0                  2703.0                  2730.0 \n",
      "                   Dubov                 2702.0                  2770.0                  2722.0 \n"
     ]
    }
   ],
   "source": [
    "# import BeautifulSoup and make a \"BeautifulSoup object\"\n",
    "# sudo apt-get install python-bs4\n",
    "\n",
    "from bs4 import BeautifulSoup\n",
    "soup = BeautifulSoup(page.content, 'html.parser')\n",
    "\n",
    "classes = [\"name\", \"live_standard_rating\", \"live_rapid_rating\", \"live_blitz_rating\"]\n",
    "soupFinds = [soup.findAll(class_=x) for x in classes]\n",
    "numClasses = len(classes)\n",
    "print(\"Top Chess Players by Rating\")\n",
    "for i in range(len(soupFinds[0])):\n",
    "    fields = [soupFinds[j][i].get_text().split(\"\\n\")[1] for j in range(numClasses)]\n",
    "    form = \"{:>24}\" * len(soupFinds)\n",
    "    print(form.format(*fields))"
   ]
  },
  {
   "cell_type": "code",
   "execution_count": null,
   "metadata": {},
   "outputs": [],
   "source": []
  }
 ],
 "metadata": {
  "kernelspec": {
   "display_name": "Python 3",
   "language": "python",
   "name": "python3"
  },
  "language_info": {
   "codemirror_mode": {
    "name": "ipython",
    "version": 3
   },
   "file_extension": ".py",
   "mimetype": "text/x-python",
   "name": "python",
   "nbconvert_exporter": "python",
   "pygments_lexer": "ipython3",
   "version": "3.8.5"
  }
 },
 "nbformat": 4,
 "nbformat_minor": 2
}
